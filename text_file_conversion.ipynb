{
  "nbformat": 4,
  "nbformat_minor": 0,
  "metadata": {
    "colab": {
      "provenance": []
    },
    "kernelspec": {
      "name": "python3",
      "display_name": "Python 3"
    },
    "language_info": {
      "name": "python"
    }
  },
  "cells": [
    {
      "cell_type": "code",
      "execution_count": 2,
      "metadata": {
        "id": "jTXuPwvgNnUQ"
      },
      "outputs": [],
      "source": [
        "import time\n",
        "\n",
        "def convert_to_uppercase(input_file, output_file):\n",
        "    start_time = time.time()\n",
        "\n",
        "    with open(input_file, 'r', encoding='utf-8') as infile, open(output_file, 'w', encoding='utf-8') as outfile:\n",
        "        for line in infile:\n",
        "            outfile.write(line.upper())\n",
        "\n",
        "    end_time = time.time()\n",
        "    print(f\"Time taken: {end_time - start_time:.2f} seconds\")\n"
      ]
    }
  ]
}